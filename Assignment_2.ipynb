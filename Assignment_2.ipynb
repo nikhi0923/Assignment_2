{
 "cells": [
  {
   "cell_type": "markdown",
   "id": "bc9ce215",
   "metadata": {},
   "source": [
    "1.The Boolean data type represents a binary value, typically used to represent true or false conditions\n",
    "\n",
    "True: This represents a true or affirmative condition. In many programming languages, it is often represented by the keyword \"true\" (lowercase).\n",
    "\n",
    "False: This represents a false or negative condition. In most programming languages, it is often represented by the keyword \"false\" (lowercase)."
   ]
  },
  {
   "cell_type": "code",
   "execution_count": 1,
   "id": "dff79b67",
   "metadata": {},
   "outputs": [],
   "source": [
    "\n",
    "x = True\n",
    "y = False\n"
   ]
  },
  {
   "cell_type": "markdown",
   "id": "2f6478f6",
   "metadata": {},
   "source": [
    "2.There are three types of boolean operators \n",
    "AND, OR, NOT \n",
    "\n",
    "AND Operator: This operator returns true only when both operands are true. It is often represented by the symbol && or the keyword AND.\n",
    "\n",
    "OR Operator: This operator returns true when at least one of the operands is true. It is often represented by the symbol || or the keyword OR.\n",
    "\n",
    "NOT Operator: This operator is used to negate the value of a Boolean expression, i.e., it converts true to false and false to true. It is often represented by the symbol ! or the keyword NOT.\n",
    "\n"
   ]
  },
  {
   "cell_type": "markdown",
   "id": "f28c1a83",
   "metadata": {},
   "source": [
    "3.AND Operator:\n",
    "\n",
    "True AND True = True\n",
    "True AND False = False\n",
    "False AND True = False\n",
    "False AND False = False\n",
    "\n",
    "OR Operator:\n",
    "\n",
    "True OR True = True\n",
    "True OR False = True\n",
    "False OR True = True\n",
    "False OR False = False\n",
    "\n",
    "NOT Operator:\n",
    "\n",
    "NOT True = False\n",
    "NOT False = True"
   ]
  },
  {
   "cell_type": "markdown",
   "id": "40b5b091",
   "metadata": {},
   "source": [
    "4.(5 > 4) and (3 == 5) is False\n",
    "not (5 > 4) is False\n",
    "(5 > 4) or (3 == 5) is True\n",
    "not ((5 > 4) or (3 == 5)) is False\n",
    "(True and True) and (True == False) is False\n",
    "(not False) or (not True) is True\n"
   ]
  },
  {
   "cell_type": "markdown",
   "id": "5fc33567",
   "metadata": {},
   "source": [
    "5.Six comparision operators are,\n",
    "\n",
    "Equal to (==): This operator checks if two values are equal to each other.\n",
    "\n",
    "Not equal to (!=): This operator checks if two values are not equal to each other.\n",
    "\n",
    "Greater than (>): This operator checks if the left operand is greater than the right operand.\n",
    "\n",
    "Less than (<): This operator checks if the left operand is less than the right operand.\n",
    "\n",
    "Greater than or equal to (>=): This operator checks if the left operand is greater than or equal to the right operand.\n",
    "\n",
    "Less than or equal to (<=): This operator checks if the left operand is less than or equal to the right operand."
   ]
  },
  {
   "cell_type": "markdown",
   "id": "3e1c13fd",
   "metadata": {},
   "source": [
    "6.Equality Operator (==):\n",
    "The equality operator is used to compare two values to determine if they are equal to each other. It returns a boolean value (true or false) based on the comparison. It does not modify the values being compared.\n",
    "\n",
    "Assignment Operator (=):\n",
    "The assignment operator is used to assign a value to a variable. It does not compare values; instead, it assigns the value on the right side to the variable on the left side.\n",
    "\n"
   ]
  },
  {
   "cell_type": "code",
   "execution_count": 1,
   "id": "4ae1fcb7",
   "metadata": {},
   "outputs": [
    {
     "name": "stdout",
     "output_type": "stream",
     "text": [
      "The number is odd.\n"
     ]
    }
   ],
   "source": [
    "number = 7 #Equality operator\n",
    "if number % 2 == 0:#Assignment operator\n",
    "    print(\"The number is even.\")\n",
    "else:\n",
    "    print(\"The number is odd.\")\n"
   ]
  },
  {
   "cell_type": "code",
   "execution_count": 2,
   "id": "544f08c8",
   "metadata": {},
   "outputs": [
    {
     "name": "stdout",
     "output_type": "stream",
     "text": [
      "ham\n",
      "spam\n",
      "spam\n"
     ]
    }
   ],
   "source": [
    "#7\n",
    "#Block 1:\n",
    "spam = 0\n",
    "if spam == 10:\n",
    "    print('eggs')\n",
    "#Block 2:\n",
    "if spam > 5:\n",
    "    print('bacon')\n",
    "else:\n",
    "    print('ham')\n",
    "#Block 3:\n",
    "print('spam')\n",
    "print('spam')\n"
   ]
  },
  {
   "cell_type": "code",
   "execution_count": 3,
   "id": "fb4e6fb9",
   "metadata": {},
   "outputs": [
    {
     "name": "stdout",
     "output_type": "stream",
     "text": [
      "Enter a value for spam: 4\n",
      "Greetings!\n"
     ]
    }
   ],
   "source": [
    "#8\n",
    "spam = int(input(\"Enter a value for spam: \"))  # You can change this line to set the value of spam programmatically\n",
    "\n",
    "if spam == 1:\n",
    "    print(\"Hello\")\n",
    "elif spam == 2:\n",
    "    print(\"Howdy\")\n",
    "else:\n",
    "    print(\"Greetings!\")\n"
   ]
  },
  {
   "cell_type": "markdown",
   "id": "571ed0df",
   "metadata": {},
   "source": [
    "9.Crtl +c for windows and command+c in mac                                                                                                                                                                                                               "
   ]
  },
  {
   "cell_type": "markdown",
   "id": "17e4b8b1",
   "metadata": {},
   "source": [
    "10.The break statement is used to exit or terminate the current loop prematurely. When a break statement is encountered within a loop, the loop immediately stops executing, and the program continues with the next statement after the loop.\n"
   ]
  },
  {
   "cell_type": "code",
   "execution_count": 4,
   "id": "cd70daf8",
   "metadata": {},
   "outputs": [
    {
     "name": "stdout",
     "output_type": "stream",
     "text": [
      "0\n",
      "1\n",
      "2\n"
     ]
    }
   ],
   "source": [
    "for i in range(5):\n",
    "    if i == 3:\n",
    "        break  # The loop will exit when i is equal to 3\n",
    "    print(i)\n"
   ]
  },
  {
   "cell_type": "markdown",
   "id": "b1d67958",
   "metadata": {},
   "source": [
    "The continue statement is used to skip the rest of the current iteration of a loop and move on to the next iteration. When a continue statement is encountered, the loop doesn't execute the remaining code for the current iteration and directly moves to the next iteration."
   ]
  },
  {
   "cell_type": "code",
   "execution_count": 5,
   "id": "73b3b402",
   "metadata": {},
   "outputs": [
    {
     "name": "stdout",
     "output_type": "stream",
     "text": [
      "0\n",
      "1\n",
      "2\n",
      "4\n"
     ]
    }
   ],
   "source": [
    "for i in range(5):\n",
    "    if i == 3:\n",
    "        continue  # The loop will skip the iteration when i is equal to 3\n",
    "    print(i)\n"
   ]
  },
  {
   "cell_type": "markdown",
   "id": "004087b9",
   "metadata": {},
   "source": [
    "11.\n",
    "range(10):\n",
    "This form of the range function specifies only the stop value. It generates a sequence of numbers starting from 0 (default start value) up to, but not including, the specified stop value. So, in this case, the sequence will be 0, 1, 2, 3, 4, 5, 6, 7, 8, 9.\n",
    "\n",
    "range(0,10):\n",
    "This form of the range function specifies both the start and stop values. It generates a sequence of numbers starting from the specified start value (inclusive) and ending at the specified stop value (exclusive). So, in this case, the sequence will be the same: 0, 1, 2, 3, 4, 5, 6, 7, 8, 9.\n",
    "\n",
    "range(0,10,1):\n",
    "This form of the range function includes all three parameters: start, stop, and step. It generates a sequence of numbers starting from the specified start value (inclusive) and ending at the specified stop value (exclusive), while incrementing by the specified step value. In this case, the step value is 1, so the sequence will be the same: 0, 1, 2, 3, 4, 5, 6, 7, 8, 9."
   ]
  },
  {
   "cell_type": "code",
   "execution_count": 6,
   "id": "68cbca2f",
   "metadata": {},
   "outputs": [
    {
     "name": "stdout",
     "output_type": "stream",
     "text": [
      "1\n",
      "2\n",
      "3\n",
      "4\n",
      "5\n",
      "6\n",
      "7\n",
      "8\n",
      "9\n",
      "10\n"
     ]
    }
   ],
   "source": [
    "#12\n",
    "for i in range(1, 11):\n",
    "    print(i)\n"
   ]
  },
  {
   "cell_type": "code",
   "execution_count": 7,
   "id": "cd8a2bd6",
   "metadata": {},
   "outputs": [
    {
     "name": "stdout",
     "output_type": "stream",
     "text": [
      "1\n",
      "2\n",
      "3\n",
      "4\n",
      "5\n",
      "6\n",
      "7\n",
      "8\n",
      "9\n",
      "10\n"
     ]
    }
   ],
   "source": [
    "i = 1\n",
    "while i <= 10:\n",
    "    print(i)\n",
    "    i += 1\n"
   ]
  },
  {
   "cell_type": "markdown",
   "id": "9f333987",
   "metadata": {},
   "source": [
    "13.import spam\n",
    "\n",
    "  spam.bacon()\n"
   ]
  }
 ],
 "metadata": {
  "kernelspec": {
   "display_name": "Python 3 (ipykernel)",
   "language": "python",
   "name": "python3"
  },
  "language_info": {
   "codemirror_mode": {
    "name": "ipython",
    "version": 3
   },
   "file_extension": ".py",
   "mimetype": "text/x-python",
   "name": "python",
   "nbconvert_exporter": "python",
   "pygments_lexer": "ipython3",
   "version": "3.10.9"
  }
 },
 "nbformat": 4,
 "nbformat_minor": 5
}
